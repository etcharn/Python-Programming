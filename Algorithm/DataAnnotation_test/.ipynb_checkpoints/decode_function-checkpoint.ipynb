{
 "cells": [
  {
   "cell_type": "code",
   "execution_count": 2,
   "id": "2a0a8f12-d267-4b0c-a3eb-e8ebbdcb7f40",
   "metadata": {},
   "outputs": [],
   "source": [
    "import os"
   ]
  },
  {
   "cell_type": "code",
   "execution_count": 25,
   "id": "98ff680f-6e05-4cc5-92be-547dbedf9ece",
   "metadata": {},
   "outputs": [
    {
     "name": "stdout",
     "output_type": "stream",
     "text": [
      "design all skill whole check deal wish visit now moment offer planet people electric lot huge system card current man way our parent wait\n"
     ]
    }
   ],
   "source": [
    "def decode(message_file):\n",
    "    \"\"\"Decodes a message from a .txt file with a pyramid-based encoding.\n",
    "\n",
    "    Args:\n",
    "        message_file (str): The name of the input .txt file.\n",
    "\n",
    "    Returns:\n",
    "        str: The decoded message.\n",
    "    \"\"\"\n",
    "    \n",
    "    # Read the content of the file\n",
    "    cwd = os.getcwd() \n",
    "    file_name = message_file\n",
    "    file_path = os.path.join(cwd, file_name)\n",
    "    \n",
    "    with open(file_path, 'r') as file:\n",
    "        lines = file.readlines()\n",
    "\n",
    "    # Initiate words dictionary\n",
    "    words = {}\n",
    "    # loop through all lines of text \n",
    "    # Split each line into number and word\n",
    "    # Add them into the dictionary having number as key and word as value\n",
    "    for line in lines:\n",
    "        number, word = line.strip().split()  # Get number and word\n",
    "        words[int(number)] = word\n",
    "    \n",
    "    decoded_words = []\n",
    "    # index stand for level of pyramid starts at 1\n",
    "    i = 1\n",
    "    # index of end of each pyramind line\n",
    "    end_of_pyramid_line_index = i * (i + 1) / 2\n",
    "    \n",
    "    while end_of_pyramid_line_index <= len(words):\n",
    "        decoded_words.append(words[end_of_pyramid_line_index])\n",
    "        i += 1 \n",
    "        end_of_pyramid_line_index = i * (i + 1) / 2\n",
    "\n",
    "    return ' '.join(decoded_words) \n",
    "    \n",
    "# Example usage:\n",
    "decoded_message = decode('coding_qual_input.txt')\n",
    "print(decoded_message)\n"
   ]
  },
  {
   "cell_type": "code",
   "execution_count": null,
   "id": "3132270c-aff8-4e22-baaa-3651120a08df",
   "metadata": {},
   "outputs": [],
   "source": []
  },
  {
   "cell_type": "code",
   "execution_count": null,
   "id": "0383a845-d63d-4ba2-bc85-f673e3e76fea",
   "metadata": {},
   "outputs": [],
   "source": []
  }
 ],
 "metadata": {
  "kernelspec": {
   "display_name": "Python 3 (ipykernel)",
   "language": "python",
   "name": "python3"
  },
  "language_info": {
   "codemirror_mode": {
    "name": "ipython",
    "version": 3
   },
   "file_extension": ".py",
   "mimetype": "text/x-python",
   "name": "python",
   "nbconvert_exporter": "python",
   "pygments_lexer": "ipython3",
   "version": "3.11.7"
  }
 },
 "nbformat": 4,
 "nbformat_minor": 5
}
